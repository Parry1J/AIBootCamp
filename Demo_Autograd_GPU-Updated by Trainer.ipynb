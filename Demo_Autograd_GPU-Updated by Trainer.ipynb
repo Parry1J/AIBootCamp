{
  "cells": [
    {
      "cell_type": "markdown",
      "metadata": {
        "id": "SBOV9uikT7uc"
      },
      "source": [
        "# Automatic differentiation with `autograd`\n",
        "Prior to `v0.4` PyTorch used the class `Variable` to record gradients. You had to wrap `Tensor`s in `Variable`s.\n",
        "`Variable`s behaved exactly like `Tensors`.\n",
        "\n",
        "With `v0.4` `Tensor` can record gradients directly if you tell it do do so, e.g. `torch.ones(3., requires_grad=True)`.\n",
        "There is no need for `Variable` anymore.\n",
        "Many tutorials still use `Variable`, be aware!"
      ]
    },
    {
      "cell_type": "markdown",
      "metadata": {
        "id": "mQw_9onZT7ud"
      },
      "source": [
        "Simply add `requires_grad=True` to the tensors you want to calculate the gradients for. PyTorch libraries such as `nn.Module` track gradients automatically."
      ]
    },
    {
      "cell_type": "markdown",
      "metadata": {
        "id": "xPqv0bLTT7ud"
      },
      "source": [
        "## Autograd is disabled by default"
      ]
    },
    {
      "cell_type": "code",
      "execution_count": 1,
      "metadata": {
        "id": "Ul--BM_FT7ue"
      },
      "outputs": [],
      "source": [
        "import torch as pt"
      ]
    },
    {
      "cell_type": "code",
      "execution_count": 2,
      "metadata": {
        "id": "rzXErpFaT7ui",
        "colab": {
          "base_uri": "https://localhost:8080/"
        },
        "outputId": "96a0cad8-a190-49cb-c250-a46aa8da7694"
      },
      "outputs": [
        {
          "output_type": "execute_result",
          "data": {
            "text/plain": [
              "tensor(2.)"
            ]
          },
          "metadata": {},
          "execution_count": 2
        }
      ],
      "source": [
        "x = pt.tensor(2.)\n",
        "x"
      ]
    },
    {
      "cell_type": "code",
      "execution_count": 3,
      "metadata": {
        "id": "6jTdbMw9T7ul",
        "colab": {
          "base_uri": "https://localhost:8080/"
        },
        "outputId": "e9f5d38e-0491-40ff-92b3-d43bb09f89e6"
      },
      "outputs": [
        {
          "output_type": "execute_result",
          "data": {
            "text/plain": [
              "tensor(3.)"
            ]
          },
          "metadata": {},
          "execution_count": 3
        }
      ],
      "source": [
        "y = pt.tensor(3.)\n",
        "y"
      ]
    },
    {
      "cell_type": "code",
      "execution_count": 4,
      "metadata": {
        "id": "y5Dj-jK9T7uo"
      },
      "outputs": [],
      "source": [
        "z = x + y"
      ]
    },
    {
      "cell_type": "code",
      "execution_count": 5,
      "metadata": {
        "id": "C3DtkKYdT7us",
        "colab": {
          "base_uri": "https://localhost:8080/"
        },
        "outputId": "8db4f50f-108b-40dd-c990-26d456bba95f"
      },
      "outputs": [
        {
          "output_type": "execute_result",
          "data": {
            "text/plain": [
              "(False, False, False)"
            ]
          },
          "metadata": {},
          "execution_count": 5
        }
      ],
      "source": [
        "x.requires_grad, y.requires_grad, z.requires_grad,"
      ]
    },
    {
      "cell_type": "markdown",
      "metadata": {
        "id": "7PkbUXJ3T7uv"
      },
      "source": [
        "### `backward()` is equivalent to `backward(tensor(1.0))`"
      ]
    },
    {
      "cell_type": "code",
      "execution_count": 6,
      "metadata": {
        "id": "CphPQ6GGT7uv",
        "colab": {
          "base_uri": "https://localhost:8080/"
        },
        "outputId": "74cc2ea8-a6ac-4fb5-e3ff-b4870e57b487"
      },
      "outputs": [
        {
          "output_type": "execute_result",
          "data": {
            "text/plain": [
              "(tensor(1.), None, None)"
            ]
          },
          "metadata": {},
          "execution_count": 6
        }
      ],
      "source": [
        "z.requires_grad = True\n",
        "\n",
        "z.backward(pt.tensor(1.0))\n",
        "\n",
        "z.grad, x.grad, y.grad"
      ]
    },
    {
      "cell_type": "code",
      "source": [
        "z.is_leaf"
      ],
      "metadata": {
        "colab": {
          "base_uri": "https://localhost:8080/"
        },
        "id": "omnP7ogHqA92",
        "outputId": "bd04a954-94e8-4476-a047-3df38e272706"
      },
      "execution_count": 7,
      "outputs": [
        {
          "output_type": "execute_result",
          "data": {
            "text/plain": [
              "True"
            ]
          },
          "metadata": {},
          "execution_count": 7
        }
      ]
    },
    {
      "cell_type": "code",
      "source": [
        "z.grad_fn, x.grad_fn, y.grad_fn"
      ],
      "metadata": {
        "colab": {
          "base_uri": "https://localhost:8080/"
        },
        "id": "E7b7kykgCL45",
        "outputId": "6fbdcc63-9b26-47ba-c68b-89dbd48fd293"
      },
      "execution_count": 10,
      "outputs": [
        {
          "output_type": "execute_result",
          "data": {
            "text/plain": [
              "(None, None, None)"
            ]
          },
          "metadata": {},
          "execution_count": 10
        }
      ]
    },
    {
      "cell_type": "code",
      "source": [
        "z.backward()"
      ],
      "metadata": {
        "id": "qIUI8k--CQfS"
      },
      "execution_count": 9,
      "outputs": []
    },
    {
      "cell_type": "markdown",
      "metadata": {
        "id": "H7-hmv06T7u1"
      },
      "source": [
        "## Enable autograd for a tensor with `requires_grad = True`"
      ]
    },
    {
      "cell_type": "code",
      "execution_count": 11,
      "metadata": {
        "id": "bwc5X1PCT7u1",
        "colab": {
          "base_uri": "https://localhost:8080/"
        },
        "outputId": "30604866-294f-43f1-ee19-b241f243b910"
      },
      "outputs": [
        {
          "output_type": "execute_result",
          "data": {
            "text/plain": [
              "tensor(2., requires_grad=True)"
            ]
          },
          "metadata": {},
          "execution_count": 11
        }
      ],
      "source": [
        "x = pt.tensor(2., requires_grad=True)\n",
        "x"
      ]
    },
    {
      "cell_type": "code",
      "execution_count": 12,
      "metadata": {
        "id": "wbkp7HNHT7u4",
        "colab": {
          "base_uri": "https://localhost:8080/"
        },
        "outputId": "d86d3913-1bf6-4289-fbb8-a779a1fff366"
      },
      "outputs": [
        {
          "output_type": "execute_result",
          "data": {
            "text/plain": [
              "True"
            ]
          },
          "metadata": {},
          "execution_count": 12
        }
      ],
      "source": [
        "x.requires_grad"
      ]
    },
    {
      "cell_type": "code",
      "execution_count": 13,
      "metadata": {
        "id": "U0enSu7tT7u7",
        "colab": {
          "base_uri": "https://localhost:8080/"
        },
        "outputId": "c2872ee1-22d2-451f-d4ae-2a299e8cf848"
      },
      "outputs": [
        {
          "output_type": "stream",
          "name": "stdout",
          "text": [
            "None\n"
          ]
        }
      ],
      "source": [
        "print(x.grad)"
      ]
    },
    {
      "cell_type": "markdown",
      "metadata": {
        "id": "9HPeGHInT7u9"
      },
      "source": [
        "## Non-leaf tensors acquire autograd by default"
      ]
    },
    {
      "cell_type": "code",
      "execution_count": 14,
      "metadata": {
        "id": "P12uitAfT7u-",
        "colab": {
          "base_uri": "https://localhost:8080/"
        },
        "outputId": "f0d1b625-7b17-4051-d501-c5f212b8dd61"
      },
      "outputs": [
        {
          "output_type": "execute_result",
          "data": {
            "text/plain": [
              "(True, True, False)"
            ]
          },
          "metadata": {},
          "execution_count": 14
        }
      ],
      "source": [
        "x = pt.tensor(2., requires_grad=True)\n",
        "y = pt.tensor(3.)\n",
        "\n",
        "#the product of x and z is a non-leaf tensor\n",
        "z = x * y\n",
        "\n",
        "z.requires_grad, x.requires_grad, y.requires_grad"
      ]
    },
    {
      "cell_type": "code",
      "source": [
        "z.grad_fn, x.grad_fn, y.grad_fn"
      ],
      "metadata": {
        "colab": {
          "base_uri": "https://localhost:8080/"
        },
        "id": "AtLSXmyPClea",
        "outputId": "2a1f2d69-55c2-4b12-b41c-77b821893017"
      },
      "execution_count": 15,
      "outputs": [
        {
          "output_type": "execute_result",
          "data": {
            "text/plain": [
              "(<MulBackward0 at 0x7c6580082020>, None, None)"
            ]
          },
          "metadata": {},
          "execution_count": 15
        }
      ]
    },
    {
      "cell_type": "code",
      "execution_count": 16,
      "metadata": {
        "id": "OU9IHc-_T7vB",
        "colab": {
          "base_uri": "https://localhost:8080/"
        },
        "outputId": "8ac979e1-ae65-45a7-a599-2ce5154846f2"
      },
      "outputs": [
        {
          "output_type": "execute_result",
          "data": {
            "text/plain": [
              "(True, <PowBackward0 at 0x7c64ebf2cd00>)"
            ]
          },
          "metadata": {},
          "execution_count": 16
        }
      ],
      "source": [
        "y = x ** 2\n",
        "\n",
        "y.requires_grad, y.grad_fn"
      ]
    },
    {
      "cell_type": "code",
      "execution_count": 17,
      "metadata": {
        "id": "zyXrocJjT7vD",
        "colab": {
          "base_uri": "https://localhost:8080/"
        },
        "outputId": "b3a23c95-0f7e-42d0-e86a-ab71247483fe"
      },
      "outputs": [
        {
          "output_type": "execute_result",
          "data": {
            "text/plain": [
              "(tensor(4.), tensor(1.))"
            ]
          },
          "metadata": {},
          "execution_count": 17
        }
      ],
      "source": [
        "y = x ** 2\n",
        "y.grad = pt.tensor(1.0)\n",
        "y.backward()\n",
        "\n",
        "x.grad, y.grad"
      ]
    },
    {
      "cell_type": "markdown",
      "metadata": {
        "id": "vVj1vknvT7vF"
      },
      "source": [
        "## Ignore autograd with `no_grad()`; useful for inference"
      ]
    },
    {
      "cell_type": "code",
      "execution_count": 18,
      "metadata": {
        "id": "6zseHLNUT7vG",
        "colab": {
          "base_uri": "https://localhost:8080/"
        },
        "outputId": "0bb2e5be-08d7-45fb-aaf2-e701df25ea25"
      },
      "outputs": [
        {
          "output_type": "stream",
          "name": "stdout",
          "text": [
            "None\n"
          ]
        }
      ],
      "source": [
        "x = pt.tensor(2., requires_grad=True)\n",
        "\n",
        "with pt.no_grad():\n",
        "    y = x * x\n",
        "    print(y.grad_fn)"
      ]
    },
    {
      "cell_type": "code",
      "source": [
        "y.backward()"
      ],
      "metadata": {
        "colab": {
          "base_uri": "https://localhost:8080/",
          "height": 304
        },
        "id": "HwFg7g_eq1j9",
        "outputId": "df167586-8ad2-4ca1-86e6-235a2e96a69e"
      },
      "execution_count": 19,
      "outputs": [
        {
          "output_type": "error",
          "ename": "RuntimeError",
          "evalue": "element 0 of tensors does not require grad and does not have a grad_fn",
          "traceback": [
            "\u001b[0;31m---------------------------------------------------------------------------\u001b[0m",
            "\u001b[0;31mRuntimeError\u001b[0m                              Traceback (most recent call last)",
            "\u001b[0;32m<ipython-input-19-ab75bb780f4c>\u001b[0m in \u001b[0;36m<cell line: 1>\u001b[0;34m()\u001b[0m\n\u001b[0;32m----> 1\u001b[0;31m \u001b[0my\u001b[0m\u001b[0;34m.\u001b[0m\u001b[0mbackward\u001b[0m\u001b[0;34m(\u001b[0m\u001b[0;34m)\u001b[0m\u001b[0;34m\u001b[0m\u001b[0;34m\u001b[0m\u001b[0m\n\u001b[0m",
            "\u001b[0;32m/usr/local/lib/python3.10/dist-packages/torch/_tensor.py\u001b[0m in \u001b[0;36mbackward\u001b[0;34m(self, gradient, retain_graph, create_graph, inputs)\u001b[0m\n\u001b[1;32m    579\u001b[0m                 \u001b[0minputs\u001b[0m\u001b[0;34m=\u001b[0m\u001b[0minputs\u001b[0m\u001b[0;34m,\u001b[0m\u001b[0;34m\u001b[0m\u001b[0;34m\u001b[0m\u001b[0m\n\u001b[1;32m    580\u001b[0m             )\n\u001b[0;32m--> 581\u001b[0;31m         torch.autograd.backward(\n\u001b[0m\u001b[1;32m    582\u001b[0m             \u001b[0mself\u001b[0m\u001b[0;34m,\u001b[0m \u001b[0mgradient\u001b[0m\u001b[0;34m,\u001b[0m \u001b[0mretain_graph\u001b[0m\u001b[0;34m,\u001b[0m \u001b[0mcreate_graph\u001b[0m\u001b[0;34m,\u001b[0m \u001b[0minputs\u001b[0m\u001b[0;34m=\u001b[0m\u001b[0minputs\u001b[0m\u001b[0;34m\u001b[0m\u001b[0;34m\u001b[0m\u001b[0m\n\u001b[1;32m    583\u001b[0m         )\n",
            "\u001b[0;32m/usr/local/lib/python3.10/dist-packages/torch/autograd/__init__.py\u001b[0m in \u001b[0;36mbackward\u001b[0;34m(tensors, grad_tensors, retain_graph, create_graph, grad_variables, inputs)\u001b[0m\n\u001b[1;32m    345\u001b[0m     \u001b[0;31m# some Python versions print out the first line of a multi-line function\u001b[0m\u001b[0;34m\u001b[0m\u001b[0;34m\u001b[0m\u001b[0m\n\u001b[1;32m    346\u001b[0m     \u001b[0;31m# calls in the traceback and some print out the last line\u001b[0m\u001b[0;34m\u001b[0m\u001b[0;34m\u001b[0m\u001b[0m\n\u001b[0;32m--> 347\u001b[0;31m     _engine_run_backward(\n\u001b[0m\u001b[1;32m    348\u001b[0m         \u001b[0mtensors\u001b[0m\u001b[0;34m,\u001b[0m\u001b[0;34m\u001b[0m\u001b[0;34m\u001b[0m\u001b[0m\n\u001b[1;32m    349\u001b[0m         \u001b[0mgrad_tensors_\u001b[0m\u001b[0;34m,\u001b[0m\u001b[0;34m\u001b[0m\u001b[0;34m\u001b[0m\u001b[0m\n",
            "\u001b[0;32m/usr/local/lib/python3.10/dist-packages/torch/autograd/graph.py\u001b[0m in \u001b[0;36m_engine_run_backward\u001b[0;34m(t_outputs, *args, **kwargs)\u001b[0m\n\u001b[1;32m    823\u001b[0m         \u001b[0munregister_hooks\u001b[0m \u001b[0;34m=\u001b[0m \u001b[0m_register_logging_hooks_on_whole_graph\u001b[0m\u001b[0;34m(\u001b[0m\u001b[0mt_outputs\u001b[0m\u001b[0;34m)\u001b[0m\u001b[0;34m\u001b[0m\u001b[0;34m\u001b[0m\u001b[0m\n\u001b[1;32m    824\u001b[0m     \u001b[0;32mtry\u001b[0m\u001b[0;34m:\u001b[0m\u001b[0;34m\u001b[0m\u001b[0;34m\u001b[0m\u001b[0m\n\u001b[0;32m--> 825\u001b[0;31m         return Variable._execution_engine.run_backward(  # Calls into the C++ engine to run the backward pass\n\u001b[0m\u001b[1;32m    826\u001b[0m             \u001b[0mt_outputs\u001b[0m\u001b[0;34m,\u001b[0m \u001b[0;34m*\u001b[0m\u001b[0margs\u001b[0m\u001b[0;34m,\u001b[0m \u001b[0;34m**\u001b[0m\u001b[0mkwargs\u001b[0m\u001b[0;34m\u001b[0m\u001b[0;34m\u001b[0m\u001b[0m\n\u001b[1;32m    827\u001b[0m         )  # Calls into the C++ engine to run the backward pass\n",
            "\u001b[0;31mRuntimeError\u001b[0m: element 0 of tensors does not require grad and does not have a grad_fn"
          ]
        }
      ]
    },
    {
      "cell_type": "code",
      "execution_count": 20,
      "metadata": {
        "id": "f__vhfylT7vI"
      },
      "outputs": [],
      "source": [
        "from torch import nn"
      ]
    },
    {
      "cell_type": "code",
      "execution_count": 22,
      "metadata": {
        "id": "ljRXhraLT7vL",
        "colab": {
          "base_uri": "https://localhost:8080/"
        },
        "outputId": "e7f98b6b-03c2-467a-98d2-914667bda1a0"
      },
      "outputs": [
        {
          "output_type": "execute_result",
          "data": {
            "text/plain": [
              "(Parameter containing:\n",
              " tensor([0.2638], requires_grad=True),\n",
              " Parameter containing:\n",
              " tensor([[-0.6622]], requires_grad=True))"
            ]
          },
          "metadata": {},
          "execution_count": 22
        }
      ],
      "source": [
        "model = nn.Linear(1, 1)\n",
        "model.bias, model.weight"
      ]
    },
    {
      "cell_type": "code",
      "source": [
        "x = pt.linspace(0, 1, 100)\n",
        "y = 2*x + 1 + pt.randn(100)\n",
        "X = pt.cat([x.reshape(-1, 1), y.reshape(-1, 1)], dim=1)\n",
        "X"
      ],
      "metadata": {
        "colab": {
          "base_uri": "https://localhost:8080/"
        },
        "id": "FiRSVzybDZLU",
        "outputId": "b51f8b8e-9164-4c46-eaec-c5b77afb8247"
      },
      "execution_count": 32,
      "outputs": [
        {
          "output_type": "execute_result",
          "data": {
            "text/plain": [
              "tensor([[ 0.0000,  2.1643],\n",
              "        [ 0.0101,  0.2813],\n",
              "        [ 0.0202,  0.8922],\n",
              "        [ 0.0303,  1.7608],\n",
              "        [ 0.0404, -0.0155],\n",
              "        [ 0.0505,  0.2037],\n",
              "        [ 0.0606,  2.6660],\n",
              "        [ 0.0707,  1.7929],\n",
              "        [ 0.0808,  2.3393],\n",
              "        [ 0.0909,  0.1821],\n",
              "        [ 0.1010,  0.6073],\n",
              "        [ 0.1111,  1.8837],\n",
              "        [ 0.1212, -0.1149],\n",
              "        [ 0.1313,  3.0061],\n",
              "        [ 0.1414,  0.9100],\n",
              "        [ 0.1515,  0.2224],\n",
              "        [ 0.1616,  1.1639],\n",
              "        [ 0.1717,  0.7608],\n",
              "        [ 0.1818,  3.0013],\n",
              "        [ 0.1919,  2.5453],\n",
              "        [ 0.2020,  0.7082],\n",
              "        [ 0.2121, -0.4022],\n",
              "        [ 0.2222,  1.7824],\n",
              "        [ 0.2323,  2.0572],\n",
              "        [ 0.2424,  1.7500],\n",
              "        [ 0.2525,  0.3162],\n",
              "        [ 0.2626,  2.6408],\n",
              "        [ 0.2727,  2.2505],\n",
              "        [ 0.2828,  0.5929],\n",
              "        [ 0.2929,  2.1057],\n",
              "        [ 0.3030,  1.0667],\n",
              "        [ 0.3131,  1.2219],\n",
              "        [ 0.3232,  1.2166],\n",
              "        [ 0.3333, -1.0300],\n",
              "        [ 0.3434,  2.4087],\n",
              "        [ 0.3535,  0.3584],\n",
              "        [ 0.3636,  1.5501],\n",
              "        [ 0.3737,  0.8438],\n",
              "        [ 0.3838,  3.3180],\n",
              "        [ 0.3939,  2.8723],\n",
              "        [ 0.4040,  1.3568],\n",
              "        [ 0.4141,  2.5543],\n",
              "        [ 0.4242,  2.2617],\n",
              "        [ 0.4343,  1.0249],\n",
              "        [ 0.4444,  2.3101],\n",
              "        [ 0.4545,  0.9102],\n",
              "        [ 0.4646,  1.2246],\n",
              "        [ 0.4747,  2.3939],\n",
              "        [ 0.4848,  1.0017],\n",
              "        [ 0.4949,  1.4604],\n",
              "        [ 0.5051,  2.7754],\n",
              "        [ 0.5152,  2.7871],\n",
              "        [ 0.5253,  1.9778],\n",
              "        [ 0.5354,  1.3874],\n",
              "        [ 0.5455,  0.1039],\n",
              "        [ 0.5556,  2.4143],\n",
              "        [ 0.5657,  1.7870],\n",
              "        [ 0.5758,  1.0986],\n",
              "        [ 0.5859,  1.8895],\n",
              "        [ 0.5960,  3.8659],\n",
              "        [ 0.6061,  3.6703],\n",
              "        [ 0.6162,  3.3325],\n",
              "        [ 0.6263,  2.7744],\n",
              "        [ 0.6364,  0.7464],\n",
              "        [ 0.6465,  1.2499],\n",
              "        [ 0.6566,  2.8460],\n",
              "        [ 0.6667,  2.7993],\n",
              "        [ 0.6768,  2.4394],\n",
              "        [ 0.6869,  2.1114],\n",
              "        [ 0.6970,  1.8762],\n",
              "        [ 0.7071,  2.5296],\n",
              "        [ 0.7172,  3.5028],\n",
              "        [ 0.7273,  2.5251],\n",
              "        [ 0.7374,  1.1295],\n",
              "        [ 0.7475,  2.4090],\n",
              "        [ 0.7576,  3.0635],\n",
              "        [ 0.7677,  1.5227],\n",
              "        [ 0.7778,  2.5084],\n",
              "        [ 0.7879,  2.8965],\n",
              "        [ 0.7980,  4.0156],\n",
              "        [ 0.8081,  3.6752],\n",
              "        [ 0.8182,  2.8215],\n",
              "        [ 0.8283,  2.1486],\n",
              "        [ 0.8384,  2.1614],\n",
              "        [ 0.8485,  4.0325],\n",
              "        [ 0.8586,  2.6192],\n",
              "        [ 0.8687,  2.2196],\n",
              "        [ 0.8788,  3.7547],\n",
              "        [ 0.8889,  3.9441],\n",
              "        [ 0.8990,  1.0538],\n",
              "        [ 0.9091,  3.6073],\n",
              "        [ 0.9192,  4.2228],\n",
              "        [ 0.9293,  2.6781],\n",
              "        [ 0.9394,  3.2343],\n",
              "        [ 0.9495,  3.5111],\n",
              "        [ 0.9596,  2.8874],\n",
              "        [ 0.9697,  3.0282],\n",
              "        [ 0.9798,  2.3495],\n",
              "        [ 0.9899,  0.7555],\n",
              "        [ 1.0000,  3.0446]])"
            ]
          },
          "metadata": {},
          "execution_count": 32
        }
      ]
    },
    {
      "cell_type": "code",
      "source": [
        "model = nn.Linear(1, 1)\n",
        "model.to(\"cuda\")\n",
        "X.to(\"cuda\")\n",
        "for epoch in range(1000):\n",
        "    model.zero_grad()\n",
        "    predictions = model(X[:, 0].reshape(-1, 1).to(\"cuda\"))  # predictions\n",
        "    loss = ((predictions.reshape(-1).to(\"cuda\") - X[:, 1].to(\"cuda\")) ** 2).mean().to(\"cuda\") # loss fn\n",
        "    loss.backward()  # autograd\n",
        "    model.bias.data -= 0.1 * model.bias.grad   # algorithm optim\n",
        "    model.weight.data -= 0.1 * model.weight.grad  # algorithm optim\n",
        "print(epoch, loss.item(), model.bias.grad, model.weight.grad, model.bias.data, model.weight.data)\n"
      ],
      "metadata": {
        "colab": {
          "base_uri": "https://localhost:8080/"
        },
        "id": "WmiKS2kjEB-Q",
        "outputId": "9bfa444e-09de-4645-f949-c75bd916ab0b"
      },
      "execution_count": 43,
      "outputs": [
        {
          "output_type": "stream",
          "name": "stdout",
          "text": [
            "999 0.9060743451118469 tensor([2.5332e-07], device='cuda:0') tensor([[-1.1772e-06]], device='cuda:0') tensor([0.9345], device='cuda:0') tensor([[2.0942]], device='cuda:0')\n"
          ]
        }
      ]
    },
    {
      "cell_type": "markdown",
      "metadata": {
        "id": "Jh2sr7KyT7vO"
      },
      "source": [
        "<html><h2><font style=\"color:red\">GPU support is required</font> to demonstrate high performance tensor operations</h2></html>"
      ]
    },
    {
      "cell_type": "code",
      "execution_count": 35,
      "metadata": {
        "id": "1cLNyRu7T7vO",
        "colab": {
          "base_uri": "https://localhost:8080/"
        },
        "outputId": "ad3a27b8-7d58-460f-d28f-504d4706fd96"
      },
      "outputs": [
        {
          "output_type": "stream",
          "name": "stdout",
          "text": [
            "Mon Nov 11 16:42:42 2024       \n",
            "+---------------------------------------------------------------------------------------+\n",
            "| NVIDIA-SMI 535.104.05             Driver Version: 535.104.05   CUDA Version: 12.2     |\n",
            "|-----------------------------------------+----------------------+----------------------+\n",
            "| GPU  Name                 Persistence-M | Bus-Id        Disp.A | Volatile Uncorr. ECC |\n",
            "| Fan  Temp   Perf          Pwr:Usage/Cap |         Memory-Usage | GPU-Util  Compute M. |\n",
            "|                                         |                      |               MIG M. |\n",
            "|=========================================+======================+======================|\n",
            "|   0  Tesla T4                       Off | 00000000:00:04.0 Off |                    0 |\n",
            "| N/A   34C    P8               9W /  70W |      3MiB / 15360MiB |      0%      Default |\n",
            "|                                         |                      |                  N/A |\n",
            "+-----------------------------------------+----------------------+----------------------+\n",
            "                                                                                         \n",
            "+---------------------------------------------------------------------------------------+\n",
            "| Processes:                                                                            |\n",
            "|  GPU   GI   CI        PID   Type   Process name                            GPU Memory |\n",
            "|        ID   ID                                                             Usage      |\n",
            "|=======================================================================================|\n",
            "|  No running processes found                                                           |\n",
            "+---------------------------------------------------------------------------------------+\n",
            "using device: cuda\n"
          ]
        }
      ],
      "source": [
        "gpu_info = !nvidia-smi\n",
        "gpu_info = '\\n'.join(gpu_info)\n",
        "if gpu_info.find('failed') >= 0:\n",
        "  print('In Google Colab select the Runtime → \"Change runtime type\" menu to enable a GPU accelerator, ')\n",
        "  print('and then re-execute this cell.')\n",
        "else:\n",
        "  print(gpu_info)\n",
        "\n",
        "device = pt.device(\"cuda\" if pt.cuda.is_available() else \"cpu\")\n",
        "print('using device:', device)"
      ]
    },
    {
      "cell_type": "markdown",
      "metadata": {
        "id": "k_M0f-qtT7vR"
      },
      "source": [
        "When CUDA drivers are installed on the device, the following returns the CUDA capability profile documented by nVidia. For the capability profile v6.0 check out https://docs.nvidia.com/cuda/cuda-c-programming-guide/index.html#compute-capability-6-x for information about the capability profile include the expected count of the Arithmetic Logic Units (ALUs).\n"
      ]
    },
    {
      "cell_type": "code",
      "execution_count": 36,
      "metadata": {
        "id": "3IL5gDxjT7vS",
        "colab": {
          "base_uri": "https://localhost:8080/"
        },
        "outputId": "19e67c0c-cdb3-4912-bbc6-90506701a463"
      },
      "outputs": [
        {
          "output_type": "execute_result",
          "data": {
            "text/plain": [
              "(7, 5)"
            ]
          },
          "metadata": {},
          "execution_count": 36
        }
      ],
      "source": [
        "pt.cuda.get_device_capability(device) if pt.cuda.is_available() else None"
      ]
    },
    {
      "cell_type": "markdown",
      "metadata": {
        "id": "E_qYuE5yT7vU"
      },
      "source": [
        "## PyTorch tensor operations require tensors to reside on the same device\n",
        "* Use the `to` function to transfer a tensor to a specific device"
      ]
    },
    {
      "cell_type": "code",
      "execution_count": 38,
      "metadata": {
        "id": "4ideDos-T7vU",
        "colab": {
          "base_uri": "https://localhost:8080/"
        },
        "outputId": "c25bf642-f662-483b-eb4e-a5d5f44f7240"
      },
      "outputs": [
        {
          "output_type": "execute_result",
          "data": {
            "text/plain": [
              "tensor([2., 2., 2., 2., 2., 2., 2., 2., 2., 2., 2., 2., 2., 2., 2., 2., 2., 2.,\n",
              "        2., 2., 2., 2., 2., 2., 2., 2., 2., 2., 2., 2., 2., 2., 2., 2., 2., 2.,\n",
              "        2., 2., 2., 2., 2., 2., 2., 2., 2., 2., 2., 2., 2., 2., 2., 2., 2., 2.,\n",
              "        2., 2., 2., 2., 2., 2., 2., 2., 2., 2., 2., 2., 2., 2., 2., 2., 2., 2.,\n",
              "        2., 2., 2., 2., 2., 2., 2., 2., 2., 2., 2., 2., 2., 2., 2., 2., 2., 2.,\n",
              "        2., 2., 2., 2., 2., 2., 2., 2., 2., 2.], device='cuda:0')"
            ]
          },
          "metadata": {},
          "execution_count": 38
        }
      ],
      "source": [
        "a = pt.ones(100).to(\"cuda\")\n",
        "b = pt.ones(100).to(\"cuda\")\n",
        "a + b"
      ]
    },
    {
      "cell_type": "code",
      "execution_count": 39,
      "metadata": {
        "id": "JXed51SZT7vX"
      },
      "outputs": [],
      "source": [
        "import timeit\n",
        "\n",
        "MAX_SIZE = 28\n",
        "sizes = [2 ** i for i in range(MAX_SIZE)]\n",
        "\n",
        "def benchmark_cpu_gpu(n):\n",
        "  for device in [\"cpu\", \"cuda\"]:\n",
        "    for size in sizes:\n",
        "      a = pt.randn(size).to(device)\n",
        "      b = pt.randn(size).to(device)\n",
        "      yield timeit.timeit(lambda: a + b, number = n)\n",
        "\n",
        "measurements = list(benchmark_cpu_gpu(1))"
      ]
    },
    {
      "cell_type": "markdown",
      "metadata": {
        "id": "VJbkEwlqT7vb"
      },
      "source": [
        "## Measure the performance ratio CPU / GPU, higher is faster GPU"
      ]
    },
    {
      "cell_type": "code",
      "execution_count": 40,
      "metadata": {
        "id": "y-ln3pu6T7vb",
        "colab": {
          "base_uri": "https://localhost:8080/"
        },
        "outputId": "83e5ff6c-64ca-432c-b50e-ee4572503a61"
      },
      "outputs": [
        {
          "output_type": "execute_result",
          "data": {
            "text/plain": [
              "[0.29726730672530843,\n",
              " 0.5248788886595712,\n",
              " 0.4882761168585531,\n",
              " 0.316950316147076,\n",
              " 0.46242078174694545,\n",
              " 0.5121273703995993,\n",
              " 0.5809332718500312,\n",
              " 0.8081021276237826,\n",
              " 0.4009253472596131,\n",
              " 0.4677209935382507,\n",
              " 81.64741680074358,\n",
              " 0.8245732107536825,\n",
              " 1.536655651940764,\n",
              " 0.554561258729246,\n",
              " 3.0253903064380605,\n",
              " 1.0566173774984353,\n",
              " 6.935609483527152,\n",
              " 3.287878787878788,\n",
              " 48.41608144734171,\n",
              " 7.748325908208725,\n",
              " 95.90149528965466,\n",
              " 22.67072531302798,\n",
              " 217.9449159757441,\n",
              " 86.17295469189543,\n",
              " 101.35269642265514,\n",
              " 178.33536177994523,\n",
              " 298.9358678426313,\n",
              " 394.1352726672914]"
            ]
          },
          "metadata": {},
          "execution_count": 40
        }
      ],
      "source": [
        "cpu = measurements[:MAX_SIZE]\n",
        "gpu = measurements[MAX_SIZE:]\n",
        "ratios = [cpu[i] / gpu[i] for i in range(len(cpu))]\n",
        "ratios"
      ]
    },
    {
      "cell_type": "markdown",
      "metadata": {
        "id": "2F4paf4ET7vf"
      },
      "source": [
        "## When adding tensors with `16,384` values and more, GPU can be `150x` faster"
      ]
    },
    {
      "cell_type": "code",
      "execution_count": 41,
      "metadata": {
        "id": "A3WKlooPT7vf",
        "colab": {
          "base_uri": "https://localhost:8080/",
          "height": 843
        },
        "outputId": "93a751b8-e0ab-4ecc-aa4d-8319baf1f1fa"
      },
      "outputs": [
        {
          "output_type": "error",
          "ename": "TypeError",
          "evalue": "LogScale.__init__() got an unexpected keyword argument 'basex'",
          "traceback": [
            "\u001b[0;31m---------------------------------------------------------------------------\u001b[0m",
            "\u001b[0;31mTypeError\u001b[0m                                 Traceback (most recent call last)",
            "\u001b[0;32m<ipython-input-41-b0c9569b48ad>\u001b[0m in \u001b[0;36m<cell line: 7>\u001b[0;34m()\u001b[0m\n\u001b[1;32m      5\u001b[0m \u001b[0mplt\u001b[0m\u001b[0;34m.\u001b[0m\u001b[0mfigure\u001b[0m\u001b[0;34m(\u001b[0m\u001b[0mfigsize\u001b[0m\u001b[0;34m=\u001b[0m\u001b[0;34m(\u001b[0m\u001b[0;36m12\u001b[0m\u001b[0;34m,\u001b[0m\u001b[0;36m6\u001b[0m\u001b[0;34m)\u001b[0m\u001b[0;34m)\u001b[0m\u001b[0;34m\u001b[0m\u001b[0;34m\u001b[0m\u001b[0m\n\u001b[1;32m      6\u001b[0m \u001b[0mplt\u001b[0m\u001b[0;34m.\u001b[0m\u001b[0mplot\u001b[0m\u001b[0;34m(\u001b[0m\u001b[0msizes\u001b[0m\u001b[0;34m,\u001b[0m \u001b[0mratios\u001b[0m\u001b[0;34m)\u001b[0m\u001b[0;34m\u001b[0m\u001b[0;34m\u001b[0m\u001b[0m\n\u001b[0;32m----> 7\u001b[0;31m \u001b[0mplt\u001b[0m\u001b[0;34m.\u001b[0m\u001b[0mxscale\u001b[0m\u001b[0;34m(\u001b[0m\u001b[0;34m\"log\"\u001b[0m\u001b[0;34m,\u001b[0m \u001b[0mbasex\u001b[0m\u001b[0;34m=\u001b[0m\u001b[0;36m2\u001b[0m\u001b[0;34m)\u001b[0m\u001b[0;34m\u001b[0m\u001b[0;34m\u001b[0m\u001b[0m\n\u001b[0m",
            "\u001b[0;32m/usr/local/lib/python3.10/dist-packages/matplotlib/pyplot.py\u001b[0m in \u001b[0;36mxscale\u001b[0;34m(value, **kwargs)\u001b[0m\n\u001b[1;32m   4159\u001b[0m \u001b[0;34m@\u001b[0m\u001b[0m_copy_docstring_and_deprecators\u001b[0m\u001b[0;34m(\u001b[0m\u001b[0mAxes\u001b[0m\u001b[0;34m.\u001b[0m\u001b[0mset_xscale\u001b[0m\u001b[0;34m)\u001b[0m\u001b[0;34m\u001b[0m\u001b[0;34m\u001b[0m\u001b[0m\n\u001b[1;32m   4160\u001b[0m \u001b[0;32mdef\u001b[0m \u001b[0mxscale\u001b[0m\u001b[0;34m(\u001b[0m\u001b[0mvalue\u001b[0m\u001b[0;34m:\u001b[0m \u001b[0mstr\u001b[0m \u001b[0;34m|\u001b[0m \u001b[0mScaleBase\u001b[0m\u001b[0;34m,\u001b[0m \u001b[0;34m**\u001b[0m\u001b[0mkwargs\u001b[0m\u001b[0;34m)\u001b[0m \u001b[0;34m->\u001b[0m \u001b[0;32mNone\u001b[0m\u001b[0;34m:\u001b[0m\u001b[0;34m\u001b[0m\u001b[0;34m\u001b[0m\u001b[0m\n\u001b[0;32m-> 4161\u001b[0;31m     \u001b[0mgca\u001b[0m\u001b[0;34m(\u001b[0m\u001b[0;34m)\u001b[0m\u001b[0;34m.\u001b[0m\u001b[0mset_xscale\u001b[0m\u001b[0;34m(\u001b[0m\u001b[0mvalue\u001b[0m\u001b[0;34m,\u001b[0m \u001b[0;34m**\u001b[0m\u001b[0mkwargs\u001b[0m\u001b[0;34m)\u001b[0m\u001b[0;34m\u001b[0m\u001b[0;34m\u001b[0m\u001b[0m\n\u001b[0m\u001b[1;32m   4162\u001b[0m \u001b[0;34m\u001b[0m\u001b[0m\n\u001b[1;32m   4163\u001b[0m \u001b[0;34m\u001b[0m\u001b[0m\n",
            "\u001b[0;32m/usr/local/lib/python3.10/dist-packages/matplotlib/axes/_base.py\u001b[0m in \u001b[0;36mwrapper\u001b[0;34m(self, *args, **kwargs)\u001b[0m\n\u001b[1;32m     71\u001b[0m \u001b[0;34m\u001b[0m\u001b[0m\n\u001b[1;32m     72\u001b[0m         \u001b[0;32mdef\u001b[0m \u001b[0mwrapper\u001b[0m\u001b[0;34m(\u001b[0m\u001b[0mself\u001b[0m\u001b[0;34m,\u001b[0m \u001b[0;34m*\u001b[0m\u001b[0margs\u001b[0m\u001b[0;34m,\u001b[0m \u001b[0;34m**\u001b[0m\u001b[0mkwargs\u001b[0m\u001b[0;34m)\u001b[0m\u001b[0;34m:\u001b[0m\u001b[0;34m\u001b[0m\u001b[0;34m\u001b[0m\u001b[0m\n\u001b[0;32m---> 73\u001b[0;31m             \u001b[0;32mreturn\u001b[0m \u001b[0mget_method\u001b[0m\u001b[0;34m(\u001b[0m\u001b[0mself\u001b[0m\u001b[0;34m)\u001b[0m\u001b[0;34m(\u001b[0m\u001b[0;34m*\u001b[0m\u001b[0margs\u001b[0m\u001b[0;34m,\u001b[0m \u001b[0;34m**\u001b[0m\u001b[0mkwargs\u001b[0m\u001b[0;34m)\u001b[0m\u001b[0;34m\u001b[0m\u001b[0;34m\u001b[0m\u001b[0m\n\u001b[0m\u001b[1;32m     74\u001b[0m \u001b[0;34m\u001b[0m\u001b[0m\n\u001b[1;32m     75\u001b[0m         \u001b[0mwrapper\u001b[0m\u001b[0;34m.\u001b[0m\u001b[0m__module__\u001b[0m \u001b[0;34m=\u001b[0m \u001b[0mowner\u001b[0m\u001b[0;34m.\u001b[0m\u001b[0m__module__\u001b[0m\u001b[0;34m\u001b[0m\u001b[0;34m\u001b[0m\u001b[0m\n",
            "\u001b[0;32m/usr/local/lib/python3.10/dist-packages/matplotlib/axis.py\u001b[0m in \u001b[0;36m_set_axes_scale\u001b[0;34m(self, value, **kwargs)\u001b[0m\n\u001b[1;32m    835\u001b[0m                             .nonsingular(-np.inf, np.inf))\n\u001b[1;32m    836\u001b[0m         \u001b[0;32mfor\u001b[0m \u001b[0max\u001b[0m \u001b[0;32min\u001b[0m \u001b[0mself\u001b[0m\u001b[0;34m.\u001b[0m\u001b[0m_get_shared_axes\u001b[0m\u001b[0;34m(\u001b[0m\u001b[0;34m)\u001b[0m\u001b[0;34m:\u001b[0m\u001b[0;34m\u001b[0m\u001b[0;34m\u001b[0m\u001b[0m\n\u001b[0;32m--> 837\u001b[0;31m             \u001b[0max\u001b[0m\u001b[0;34m.\u001b[0m\u001b[0m_axis_map\u001b[0m\u001b[0;34m[\u001b[0m\u001b[0mname\u001b[0m\u001b[0;34m]\u001b[0m\u001b[0;34m.\u001b[0m\u001b[0m_set_scale\u001b[0m\u001b[0;34m(\u001b[0m\u001b[0mvalue\u001b[0m\u001b[0;34m,\u001b[0m \u001b[0;34m**\u001b[0m\u001b[0mkwargs\u001b[0m\u001b[0;34m)\u001b[0m\u001b[0;34m\u001b[0m\u001b[0;34m\u001b[0m\u001b[0m\n\u001b[0m\u001b[1;32m    838\u001b[0m             \u001b[0max\u001b[0m\u001b[0;34m.\u001b[0m\u001b[0m_update_transScale\u001b[0m\u001b[0;34m(\u001b[0m\u001b[0;34m)\u001b[0m\u001b[0;34m\u001b[0m\u001b[0;34m\u001b[0m\u001b[0m\n\u001b[1;32m    839\u001b[0m             \u001b[0max\u001b[0m\u001b[0;34m.\u001b[0m\u001b[0mstale\u001b[0m \u001b[0;34m=\u001b[0m \u001b[0;32mTrue\u001b[0m\u001b[0;34m\u001b[0m\u001b[0;34m\u001b[0m\u001b[0m\n",
            "\u001b[0;32m/usr/local/lib/python3.10/dist-packages/matplotlib/axis.py\u001b[0m in \u001b[0;36m_set_scale\u001b[0;34m(self, value, **kwargs)\u001b[0m\n\u001b[1;32m    794\u001b[0m     \u001b[0;32mdef\u001b[0m \u001b[0m_set_scale\u001b[0m\u001b[0;34m(\u001b[0m\u001b[0mself\u001b[0m\u001b[0;34m,\u001b[0m \u001b[0mvalue\u001b[0m\u001b[0;34m,\u001b[0m \u001b[0;34m**\u001b[0m\u001b[0mkwargs\u001b[0m\u001b[0;34m)\u001b[0m\u001b[0;34m:\u001b[0m\u001b[0;34m\u001b[0m\u001b[0;34m\u001b[0m\u001b[0m\n\u001b[1;32m    795\u001b[0m         \u001b[0;32mif\u001b[0m \u001b[0;32mnot\u001b[0m \u001b[0misinstance\u001b[0m\u001b[0;34m(\u001b[0m\u001b[0mvalue\u001b[0m\u001b[0;34m,\u001b[0m \u001b[0mmscale\u001b[0m\u001b[0;34m.\u001b[0m\u001b[0mScaleBase\u001b[0m\u001b[0;34m)\u001b[0m\u001b[0;34m:\u001b[0m\u001b[0;34m\u001b[0m\u001b[0;34m\u001b[0m\u001b[0m\n\u001b[0;32m--> 796\u001b[0;31m             \u001b[0mself\u001b[0m\u001b[0;34m.\u001b[0m\u001b[0m_scale\u001b[0m \u001b[0;34m=\u001b[0m \u001b[0mmscale\u001b[0m\u001b[0;34m.\u001b[0m\u001b[0mscale_factory\u001b[0m\u001b[0;34m(\u001b[0m\u001b[0mvalue\u001b[0m\u001b[0;34m,\u001b[0m \u001b[0mself\u001b[0m\u001b[0;34m,\u001b[0m \u001b[0;34m**\u001b[0m\u001b[0mkwargs\u001b[0m\u001b[0;34m)\u001b[0m\u001b[0;34m\u001b[0m\u001b[0;34m\u001b[0m\u001b[0m\n\u001b[0m\u001b[1;32m    797\u001b[0m         \u001b[0;32melse\u001b[0m\u001b[0;34m:\u001b[0m\u001b[0;34m\u001b[0m\u001b[0;34m\u001b[0m\u001b[0m\n\u001b[1;32m    798\u001b[0m             \u001b[0mself\u001b[0m\u001b[0;34m.\u001b[0m\u001b[0m_scale\u001b[0m \u001b[0;34m=\u001b[0m \u001b[0mvalue\u001b[0m\u001b[0;34m\u001b[0m\u001b[0;34m\u001b[0m\u001b[0m\n",
            "\u001b[0;32m/usr/local/lib/python3.10/dist-packages/matplotlib/scale.py\u001b[0m in \u001b[0;36mscale_factory\u001b[0;34m(scale, axis, **kwargs)\u001b[0m\n\u001b[1;32m    715\u001b[0m     \"\"\"\n\u001b[1;32m    716\u001b[0m     \u001b[0mscale_cls\u001b[0m \u001b[0;34m=\u001b[0m \u001b[0m_api\u001b[0m\u001b[0;34m.\u001b[0m\u001b[0mcheck_getitem\u001b[0m\u001b[0;34m(\u001b[0m\u001b[0m_scale_mapping\u001b[0m\u001b[0;34m,\u001b[0m \u001b[0mscale\u001b[0m\u001b[0;34m=\u001b[0m\u001b[0mscale\u001b[0m\u001b[0;34m)\u001b[0m\u001b[0;34m\u001b[0m\u001b[0;34m\u001b[0m\u001b[0m\n\u001b[0;32m--> 717\u001b[0;31m     \u001b[0;32mreturn\u001b[0m \u001b[0mscale_cls\u001b[0m\u001b[0;34m(\u001b[0m\u001b[0maxis\u001b[0m\u001b[0;34m,\u001b[0m \u001b[0;34m**\u001b[0m\u001b[0mkwargs\u001b[0m\u001b[0;34m)\u001b[0m\u001b[0;34m\u001b[0m\u001b[0;34m\u001b[0m\u001b[0m\n\u001b[0m\u001b[1;32m    718\u001b[0m \u001b[0;34m\u001b[0m\u001b[0m\n\u001b[1;32m    719\u001b[0m \u001b[0;34m\u001b[0m\u001b[0m\n",
            "\u001b[0;31mTypeError\u001b[0m: LogScale.__init__() got an unexpected keyword argument 'basex'"
          ]
        },
        {
          "output_type": "display_data",
          "data": {
            "text/plain": [
              "<Figure size 1200x600 with 1 Axes>"
            ],
            "image/png": "[encoded data removed]"
          },
          "metadata": {}
        }
      ],
      "source": [
        "import matplotlib.pyplot as plt\n",
        "%matplotlib inline\n",
        "plt.rc('xtick', labelsize=20)\n",
        "plt.rc('ytick', labelsize=20)\n",
        "plt.figure(figsize=(12,6))\n",
        "plt.plot(sizes, ratios)\n",
        "plt.xscale(\"log\", basex=2)"
      ]
    },
    {
      "cell_type": "markdown",
      "metadata": {
        "id": "LGHWIcw9T7vh"
      },
      "source": [
        "## GPU performance on tensors with `8,192`  or fewer elements is on par with CPUs"
      ]
    },
    {
      "cell_type": "code",
      "execution_count": null,
      "metadata": {
        "id": "1Vnu-pY-T7vi"
      },
      "outputs": [],
      "source": [
        "plt.figure(figsize=(12,6))\n",
        "\n",
        "plt.plot(sizes[:17], ratios[:17])\n",
        "plt.xscale(\"log\", basex=2);\n",
        "\n",
        "plt.rc('xtick', labelsize=20)\n",
        "plt.rc('ytick', labelsize=20)"
      ]
    },
    {
      "cell_type": "markdown",
      "metadata": {
        "id": "SBI5VGQNUI6m"
      },
      "source": [
        "Copyright 2021 CounterFactual.AI LLC. Licensed under the Apache License, Version 2.0 (the \"License\"); you may not use this file except in compliance with the License. You may obtain a copy of the License at http://www.apache.org/licenses/LICENSE-2.0 Unless required by applicable law or agreed to in writing, software distributed under the License is distributed on an \"AS IS\" BASIS, WITHOUT WARRANTIES OR CONDITIONS OF ANY KIND, either express or implied. See the License for the specific language governing permissions and limitations under the License."
      ]
    }
  ],
  "metadata": {
    "accelerator": "GPU",
    "colab": {
      "provenance": []
    },
    "kernelspec": {
      "display_name": "Python 3 (ipykernel)",
      "language": "python",
      "name": "python3"
    },
    "language_info": {
      "codemirror_mode": {
        "name": "ipython",
        "version": 3
      },
      "file_extension": ".py",
      "mimetype": "text/x-python",
      "name": "python",
      "nbconvert_exporter": "python",
      "pygments_lexer": "ipython3",
      "version": "3.9.1"
    }
  },
  "nbformat": 4,
  "nbformat_minor": 0
}